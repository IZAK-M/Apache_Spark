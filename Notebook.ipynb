{
 "cells": [
  {
   "cell_type": "code",
   "execution_count": 20,
   "id": "b869c564",
   "metadata": {},
   "outputs": [
    {
     "name": "stdout",
     "output_type": "stream",
     "text": [
      "JAVA_HOME = /opt/homebrew/opt/openjdk@17/libexec/openjdk.jdk/Contents/Home\n"
     ]
    }
   ],
   "source": [
    "# Utiliser le code suivant pour récuperer le \n",
    "import os\n",
    "print(\"JAVA_HOME =\", os.environ.get(\"JAVA_HOME\"))"
   ]
  },
  {
   "cell_type": "code",
   "execution_count": 21,
   "id": "b49245c5",
   "metadata": {},
   "outputs": [],
   "source": [
    "import os\n",
    "os.environ['JAVA_HOME'] = '/opt/homebrew/opt/openjdk@17/libexec/openjdk.jdk/Contents/Home'\n",
    "import findspark\n",
    "findspark.init()\n"
   ]
  },
  {
   "cell_type": "code",
   "execution_count": null,
   "id": "862114a5",
   "metadata": {},
   "outputs": [
    {
     "name": "stdout",
     "output_type": "stream",
     "text": [
      "<pyspark.sql.session.SparkSession object at 0x10bc667b0>\n",
      "+--------------+-----------+-----------+-------------+-----------------+------------------+---------------+---------------+---------------+-------------+---------------------+-------------------+---------+--------------+\n",
      "|id_transaction| client_nom| client_age| client_ville| produit_nom     | produit_categorie| produit_marque| prix_catalogue| magasin_nom   | magasin_type| magasin_region      |         date      | quantite| montant_total|\n",
      "+--------------+-----------+-----------+-------------+-----------------+------------------+---------------+---------------+---------------+-------------+---------------------+-------------------+---------+--------------+\n",
      "|           1.0| Alice     |       25.0| Paris       | Ordinateur      | Informatique     | Dell          |          800.0| Boutique Lyon | Physique    |  Auvergne-Rhône-A...|2023-03-12 00:00:00|        2|              |\n",
      "|           2.0| Bob       |       34.0| Lyon        | Smartphone      | Téléphonie       | Apple         |         1200.0| Boutique Lyon | Physique    |  Auvergne-Rhône-A...|2023-01-27 00:00:00|        5|              |\n",
      "|           3.0| Alice     |       25.0| Paris       | Montre connectée| Accessoires      | Garmin        |          300.0| E-Shop        | En ligne    |  National        ...|2023-01-09 00:00:00|        1|              |\n",
      "|           4.0| Alice     |       25.0| Paris       | Smartphone      | Téléphonie       | Apple         |         1200.0| Boutique Paris| Physique    |  Île-de-France   ...|2023-05-10 00:00:00|        5|              |\n",
      "|           5.0| Alice     |       25.0| Paris       | Montre connectée| Accessoires      | Garmin        |          300.0| Boutique Paris| Physique    |  Île-de-France   ...|2023-06-16 00:00:00|        5|              |\n",
      "|           6.0| David     |       40.0| Bordeaux    | Smartphone      | Téléphonie       | Apple         |         1200.0| E-Shop        | En ligne    |  National        ...|2023-05-31 00:00:00|        3|              |\n",
      "|           7.0| Alice     |       25.0| Paris       | Smartphone      | Téléphonie       | Apple         |         1200.0| Boutique Lyon | Physique    |  Auvergne-Rhône-A...|2023-04-19 00:00:00|        3|              |\n",
      "|           8.0| Charlie   |       29.0| Marseille   | Smartphone      | Téléphonie       | Apple         |         1200.0| Boutique Paris| Physique    |  Île-de-France   ...|2023-03-28 00:00:00|        1|              |\n",
      "|           9.0| Alice     |       25.0| Paris       | Tablette        | Informatique     | Samsung       |          600.0| Boutique Paris| Physique    |  Île-de-France   ...|2023-04-02 00:00:00|        3|              |\n",
      "|          10.0| Emma      |       31.0| Toulouse    | Casque audio    | Accessoires      | Sony          |          150.0| Boutique Paris| Physique    |  Île-de-France   ...|2023-04-28 00:00:00|        5|              |\n",
      "|          11.0| Alice     |       25.0| Paris       | Tablette        | Informatique     | Samsung       |          600.0| Boutique Paris| Physique    |  Île-de-France   ...|2023-05-22 00:00:00|        3|              |\n",
      "|          12.0| Emma      |       31.0| Toulouse    | Casque audio    | Accessoires      | Sony          |          150.0| Boutique Lyon | Physique    |  Auvergne-Rhône-A...|2023-02-19 00:00:00|         |              |\n",
      "|          13.0| Alice     |       25.0| Paris       | Smartphone      | Téléphonie       | Apple         |         1200.0| E-Shop        | En ligne    |  National        ...|2023-01-21 00:00:00|        2|              |\n",
      "|          14.0| Alice     |       25.0| Paris       | Tablette        | Informatique     | Samsung       |          600.0| E-Shop        | En ligne    |  National        ...|2023-04-27 00:00:00|        3|              |\n",
      "|          15.0| Bob       |       34.0| Lyon        | Casque audio    | Accessoires      | Sony          |          150.0| E-Shop        | En ligne    |  National        ...|2023-02-23 00:00:00|        3|              |\n",
      "|          16.0| Alice     |       25.0| Paris       | Montre connectée| Accessoires      | Garmin        |          300.0| Boutique Lyon | Physique    |  Auvergne-Rhône-A...|2023-02-13 00:00:00|        5|              |\n",
      "|          17.0| Bob       |       34.0| Lyon        | Smartphone      | 3                | Apple         |         1200.0| E-Shop        | En ligne    |  National        ...|2023-04-08 00:00:00|        3|              |\n",
      "|          18.0| Emma      |       31.0| Toulouse    | Smartphone      | Téléphonie       | Apple         |         1200.0| Boutique Lyon | Physique    |  Auvergne-Rhône-A...|2023-03-25 00:00:00|        1|              |\n",
      "|          19.0| Bob       |       34.0| Lyon        | Ordinateur      | Informatique     | Dell          |          800.0| E-Shop        | En ligne    |  National        ...|2023-04-13 00:00:00|        3|              |\n",
      "|          20.0| Alice     |       25.0| Paris       | Smartphone      | Téléphonie       | Apple         |         -850.0| Boutique Lyon | Physique    |  Auvergne-Rhône-A...|2023-03-22 00:00:00|        2|              |\n",
      "+--------------+-----------+-----------+-------------+-----------------+------------------+---------------+---------------+---------------+-------------+---------------------+-------------------+---------+--------------+\n",
      "only showing top 20 rows\n"
     ]
    },
    {
     "data": {
      "text/plain": [
       "['id_transaction',\n",
       " ' client_nom',\n",
       " ' client_age',\n",
       " ' client_ville',\n",
       " ' produit_nom     ',\n",
       " ' produit_categorie',\n",
       " ' produit_marque',\n",
       " ' prix_catalogue',\n",
       " ' magasin_nom   ',\n",
       " ' magasin_type',\n",
       " ' magasin_region      ',\n",
       " ' date      ',\n",
       " ' quantite',\n",
       " ' montant_total']"
      ]
     },
     "execution_count": 22,
     "metadata": {},
     "output_type": "execute_result"
    }
   ],
   "source": [
    "# Import SparkSession from pyspark.sql\n",
    "from pyspark.sql import SparkSession\n",
    "\n",
    "# Creation de my_spark\n",
    "my_spark = SparkSession.builder.appName(\"my_spark\").getOrCreate()\n",
    "\n",
    "# Print my_spark\n",
    "print(my_spark)\n",
    "\n",
    "# Lecture du fichier csv:\n",
    "ventes_df = my_spark.read.csv(\"ventes.csv\", header=True, inferSchema=True)\n",
    "\n",
    "ventes_df.show()\n"
   ]
  },
  {
   "cell_type": "markdown",
   "id": "71f866b7",
   "metadata": {},
   "source": [
    "## Nettoyage des données avec PySpark"
   ]
  },
  {
   "cell_type": "markdown",
   "id": "79227056",
   "metadata": {},
   "source": [
    "### <span style=color:orange > Convertir toutes les valeurs de type string en lowercase."
   ]
  },
  {
   "cell_type": "code",
   "execution_count": 72,
   "id": "0a411b42",
   "metadata": {},
   "outputs": [],
   "source": [
    "from pyspark.sql.functions import col, trim, lower, year\n",
    "\n",
    "string_cols = [colonne for colonne, data_type in ventes_df.dtypes if data_type == 'string']\n",
    "\n",
    "for c in string_cols:\n",
    "    ventes_df = ventes_df.withColumn(c, lower(trim(col(c))))"
   ]
  },
  {
   "cell_type": "code",
   "execution_count": null,
   "id": "71325b25",
   "metadata": {},
   "outputs": [
    {
     "name": "stdout",
     "output_type": "stream",
     "text": [
      "+--------------+-----------+-----------+-------------+-----------------+------------------+---------------+---------------+---------------+-------------+---------------------+-------------------+---------+--------------+\n",
      "|id_transaction| client_nom| client_age| client_ville| produit_nom     | produit_categorie| produit_marque| prix_catalogue| magasin_nom   | magasin_type| magasin_region      |         date      | quantite| montant_total|\n",
      "+--------------+-----------+-----------+-------------+-----------------+------------------+---------------+---------------+---------------+-------------+---------------------+-------------------+---------+--------------+\n",
      "|           1.0|      alice|       25.0|        paris|       ordinateur|      informatique|           dell|          800.0|  boutique lyon|     physique| auvergne-rhône-alpes|2023-03-12 00:00:00|        2|              |\n",
      "|           2.0|        bob|       34.0|         lyon|       smartphone|        téléphonie|          apple|         1200.0|  boutique lyon|     physique| auvergne-rhône-alpes|2023-01-27 00:00:00|        5|              |\n",
      "|           3.0|      alice|       25.0|        paris| montre connectée|       accessoires|         garmin|          300.0|         e-shop|     en ligne|             national|2023-01-09 00:00:00|        1|              |\n",
      "|           4.0|      alice|       25.0|        paris|       smartphone|        téléphonie|          apple|         1200.0| boutique paris|     physique|        île-de-france|2023-05-10 00:00:00|        5|              |\n",
      "|           5.0|      alice|       25.0|        paris| montre connectée|       accessoires|         garmin|          300.0| boutique paris|     physique|        île-de-france|2023-06-16 00:00:00|        5|              |\n",
      "+--------------+-----------+-----------+-------------+-----------------+------------------+---------------+---------------+---------------+-------------+---------------------+-------------------+---------+--------------+\n",
      "only showing top 5 rows\n"
     ]
    }
   ],
   "source": [
    "# Vérification :\n",
    "\n",
    "ventes_df.show(5)"
   ]
  },
  {
   "cell_type": "markdown",
   "id": "6bb398ba",
   "metadata": {},
   "source": [
    "### <span style=color:orange > Eliminez les lignes où au moins une colonne est manquante"
   ]
  },
  {
   "cell_type": "code",
   "execution_count": null,
   "id": "661502b9",
   "metadata": {},
   "outputs": [
    {
     "name": "stdout",
     "output_type": "stream",
     "text": [
      "Total lignes : 495\n"
     ]
    }
   ],
   "source": [
    "# Nombre total de lignes avant le traitement:\n",
    "print(f\"Total lignes : {ventes_df.count()}\")"
   ]
  },
  {
   "cell_type": "code",
   "execution_count": null,
   "id": "900842bf",
   "metadata": {},
   "outputs": [
    {
     "name": "stdout",
     "output_type": "stream",
     "text": [
      "+--------------+-----------+-----------+-------------+-----------------+------------------+---------------+---------------+---------------+-------------+---------------------+-------------------+---------+--------------+\n",
      "|id_transaction| client_nom| client_age| client_ville| produit_nom     | produit_categorie| produit_marque| prix_catalogue| magasin_nom   | magasin_type| magasin_region      | date              | quantite| montant_total|\n",
      "+--------------+-----------+-----------+-------------+-----------------+------------------+---------------+---------------+---------------+-------------+---------------------+-------------------+---------+--------------+\n",
      "|12.0          |emma       |31.0       |toulouse     |casque audio     |accessoires       |sony           |150.0          |boutique lyon  |physique     |auvergne-rhône-alpes |2023-02-19 00:00:00|         |              |\n",
      "|58.0          |emma       |31.0       |toulouse     |tablette         |informatique      |samsung        |600.0          |boutique paris |physique     |île-de-france        |2023-02-18 00:00:00|         |              |\n",
      "|64.0          |emma       |31.0       |toulouse     |montre connectée |accessoires       |garmin         |300.0          |boutique paris |physique     |île-de-france        |2023-06-08 00:00:00|         |              |\n",
      "|90.0          |alice      |25.0       |paris        |smartphone       |téléphonie        |apple          |1200.0         |e-shop         |en ligne     |national             |2023-03-26 00:00:00|         |              |\n",
      "|110.0         |bob        |34.0       |lyon         |tablette         |informatique      |samsung        |600.0          |boutique lyon  |physique     |auvergne-rhône-alpes |2023-01-19 00:00:00|         |              |\n",
      "|117.0         |emma       |31.0       |toulouse     |tablette         |informatique      |samsung        |600.0          |boutique lyon  |physique     |auvergne-rhône-alpes |2023-04-25 00:00:00|         |              |\n",
      "|363.0         |emma       |31.0       |toulouse     |smartphone       |téléphonie        |apple          |1200.0         |e-shop         |en ligne     |national             |2023-01-24 00:00:00|         |              |\n",
      "|446.0         |bob        |34.0       |lyon         |casque audio     |accessoires       |sony           |150.0          |boutique lyon  |physique     |auvergne-rhône-alpes |2023-04-04 00:00:00|         |              |\n",
      "+--------------+-----------+-----------+-------------+-----------------+------------------+---------------+---------------+---------------+-------------+---------------------+-------------------+---------+--------------+\n",
      "\n"
     ]
    }
   ],
   "source": [
    "# Liste des colonnes à tester (toutes sauf la dernière)\n",
    "colonnes = ventes_df.columns[:-1]\n",
    "\n",
    "# Condition : au moins une colonne est null ou vide\n",
    "condition = None\n",
    "for c in colonnes:\n",
    "    cond = (col(c).isNull()) | (trim(col(c)) == \"\")\n",
    "    condition = cond if condition is None else (condition | cond)\n",
    "\n",
    "# Appliquer le filtre\n",
    "ventes_df.filter(condition).show(truncate=False)\n",
    "\n"
   ]
  },
  {
   "cell_type": "code",
   "execution_count": null,
   "id": "c620a47c",
   "metadata": {},
   "outputs": [],
   "source": [
    "ventes_df = ventes_df.na.drop(subset= colonnes) # Supprime que les valeurs Null\n",
    "ventes_df = ventes_df.filter(~ condition) # Garde toutes les lignes qui ne correspondent pas à ma condition"
   ]
  },
  {
   "cell_type": "code",
   "execution_count": 46,
   "id": "abbcce0a",
   "metadata": {},
   "outputs": [
    {
     "name": "stdout",
     "output_type": "stream",
     "text": [
      "Total lignes après la suppression des Null ou vide : 487\n"
     ]
    }
   ],
   "source": [
    "# Nombre total de lignes après le traitement des veleurs null ou vide:\n",
    "print(f\"Total lignes après la suppression des Null ou vide : {ventes_df.count()}\")"
   ]
  },
  {
   "cell_type": "markdown",
   "id": "48b13387",
   "metadata": {},
   "source": [
    "### <span style=color:orange > Eliminez les lignes où la date d'achat est extravagante"
   ]
  },
  {
   "cell_type": "markdown",
   "id": "db12770c",
   "metadata": {},
   "source": [
    "<span style=color:yellow >Normalisation des Nom des colonnes et renommage de la colonne date en date_vente pour éviter les conflits avec \n",
    "les fonctions de pyspark"
   ]
  },
  {
   "cell_type": "code",
   "execution_count": 57,
   "id": "64897ccf",
   "metadata": {},
   "outputs": [],
   "source": [
    "ventes_df = ventes_df.select([col(c).alias(c.strip()) for c in ventes_df.columns]) # Supprime les espaces \n",
    "ventes_df = ventes_df.withColumnRenamed(\"date\", \"date_vente\")"
   ]
  },
  {
   "cell_type": "code",
   "execution_count": 58,
   "id": "56051aeb",
   "metadata": {},
   "outputs": [
    {
     "data": {
      "text/plain": [
       "['id_transaction',\n",
       " 'client_nom',\n",
       " 'client_age',\n",
       " 'client_ville',\n",
       " 'produit_nom',\n",
       " 'produit_categorie',\n",
       " 'produit_marque',\n",
       " 'prix_catalogue',\n",
       " 'magasin_nom',\n",
       " 'magasin_type',\n",
       " 'magasin_region',\n",
       " 'date_vente',\n",
       " 'quantite',\n",
       " 'montant_total']"
      ]
     },
     "execution_count": 58,
     "metadata": {},
     "output_type": "execute_result"
    }
   ],
   "source": [
    "ventes_df.columns"
   ]
  },
  {
   "cell_type": "code",
   "execution_count": 70,
   "id": "b9618f3b",
   "metadata": {},
   "outputs": [
    {
     "name": "stdout",
     "output_type": "stream",
     "text": [
      "+------------+---------+\n",
      "|annee_ventes|nb_ventes|\n",
      "+------------+---------+\n",
      "|        1632|        1|\n",
      "|        1702|        1|\n",
      "|        1742|        1|\n",
      "|        1745|        1|\n",
      "|        1821|        1|\n",
      "|        1852|        1|\n",
      "|        2023|      481|\n",
      "+------------+---------+\n",
      "\n"
     ]
    }
   ],
   "source": [
    "# Enregistrement du DataFrame comme une vue temporaire pour pouvoir l'interroger avec SQL :\n",
    "ventes_df.createOrReplaceTempView(\"ventes\")\n",
    "\n",
    "# Visualisation des annomalies dans la colonne date :\n",
    "my_spark.sql(\"\"\"\n",
    "    SELECT \n",
    "        YEAR(date_vente) AS annee_ventes,\n",
    "    COUNT(*) AS nb_ventes\n",
    "    FROM ventes\n",
    "    GROUP BY YEAR(date_vente)\n",
    "    ORDER BY annee_ventes\n",
    "\"\"\").show()"
   ]
  },
  {
   "cell_type": "code",
   "execution_count": 73,
   "id": "6b12b66a",
   "metadata": {},
   "outputs": [
    {
     "name": "stdout",
     "output_type": "stream",
     "text": [
      "Total lignes avant le traitement des dates : 487\n"
     ]
    }
   ],
   "source": [
    "# Nombre total de lignes avant le traitement des dates:\n",
    "print(f\"Total lignes avant le traitement des dates : {ventes_df.count()}\")"
   ]
  },
  {
   "cell_type": "code",
   "execution_count": null,
   "id": "3f136daa",
   "metadata": {},
   "outputs": [],
   "source": [
    "ventes_df = ventes_df.filter(year(col(\"date_vente\")) == 2023)"
   ]
  },
  {
   "cell_type": "code",
   "execution_count": 75,
   "id": "521c5ce6",
   "metadata": {},
   "outputs": [
    {
     "name": "stdout",
     "output_type": "stream",
     "text": [
      "Total lignes après le traitement des dates : 481\n"
     ]
    }
   ],
   "source": [
    "# Nombre total de lignes après le traitement des dates:\n",
    "print(f\"Total lignes après le traitement des dates : {ventes_df.count()}\")"
   ]
  },
  {
   "cell_type": "markdown",
   "id": "eeb6d371",
   "metadata": {},
   "source": [
    "### <span style=color:orange > Globalement, élimination des lignes où les cellules présentent des anomalies "
   ]
  },
  {
   "cell_type": "code",
   "execution_count": 76,
   "id": "d554986a",
   "metadata": {},
   "outputs": [
    {
     "name": "stdout",
     "output_type": "stream",
     "text": [
      "root\n",
      " |-- id_transaction: double (nullable = true)\n",
      " |-- client_nom: string (nullable = true)\n",
      " |-- client_age: double (nullable = true)\n",
      " |-- client_ville: string (nullable = true)\n",
      " |-- produit_nom: string (nullable = true)\n",
      " |-- produit_categorie: string (nullable = true)\n",
      " |-- produit_marque: string (nullable = true)\n",
      " |-- prix_catalogue: double (nullable = true)\n",
      " |-- magasin_nom: string (nullable = true)\n",
      " |-- magasin_type: string (nullable = true)\n",
      " |-- magasin_region: string (nullable = true)\n",
      " |-- date_vente: timestamp (nullable = true)\n",
      " |-- quantite: string (nullable = true)\n",
      " |-- montant_total: string (nullable = true)\n",
      "\n"
     ]
    }
   ],
   "source": [
    "ventes_df.printSchema()"
   ]
  },
  {
   "cell_type": "markdown",
   "id": "138979d7",
   "metadata": {},
   "source": [
    "### <span style=color:orange >Si l'âge est négatif, le mettre en positif."
   ]
  },
  {
   "cell_type": "code",
   "execution_count": 84,
   "id": "942a7c07",
   "metadata": {},
   "outputs": [
    {
     "name": "stdout",
     "output_type": "stream",
     "text": [
      "+--------------+----------+----------+------------+----------------+-----------------+--------------+--------------+--------------+------------+--------------------+-------------------+--------+-------------+\n",
      "|id_transaction|client_nom|client_age|client_ville|     produit_nom|produit_categorie|produit_marque|prix_catalogue|   magasin_nom|magasin_type|      magasin_region|         date_vente|quantite|montant_total|\n",
      "+--------------+----------+----------+------------+----------------+-----------------+--------------+--------------+--------------+------------+--------------------+-------------------+--------+-------------+\n",
      "|          35.0|   charlie|     -29.0|   marseille|      smartphone|       téléphonie|         apple|        1200.0|boutique paris|    physique|       île-de-france|2023-03-03 00:00:00|       5|             |\n",
      "|         145.0|     alice|     -25.0|       paris|    casque audio|      accessoires|          sony|         150.0| boutique lyon|    physique|auvergne-rhône-alpes|2023-06-03 00:00:00|       1|             |\n",
      "|         215.0|     david|   48781.0|    bordeaux|montre connectée|      accessoires|        garmin|         300.0|        e-shop|    en ligne|            national|2023-03-30 00:00:00|       3|             |\n",
      "+--------------+----------+----------+------------+----------------+-----------------+--------------+--------------+--------------+------------+--------------------+-------------------+--------+-------------+\n",
      "\n"
     ]
    }
   ],
   "source": [
    "ventes_df.createOrReplaceTempView(\"ventes\")\n",
    "my_spark.sql(\"\"\"\n",
    "    SELECT *\n",
    "    FROM ventes\n",
    "    WHERE  client_age < 15 OR client_age > 70;\n",
    "\"\"\").show()"
   ]
  },
  {
   "cell_type": "code",
   "execution_count": 86,
   "id": "9074319c",
   "metadata": {},
   "outputs": [
    {
     "name": "stdout",
     "output_type": "stream",
     "text": [
      "+--------------+----------+----------+------------+------------+-----------------+--------------+--------------+--------------+------------+--------------------+-------------------+--------+-------------+\n",
      "|id_transaction|client_nom|client_age|client_ville| produit_nom|produit_categorie|produit_marque|prix_catalogue|   magasin_nom|magasin_type|      magasin_region|         date_vente|quantite|montant_total|\n",
      "+--------------+----------+----------+------------+------------+-----------------+--------------+--------------+--------------+------------+--------------------+-------------------+--------+-------------+\n",
      "|          35.0|   charlie|     -29.0|   marseille|  smartphone|       téléphonie|         apple|        1200.0|boutique paris|    physique|       île-de-france|2023-03-03 00:00:00|       5|             |\n",
      "|         145.0|     alice|     -25.0|       paris|casque audio|      accessoires|          sony|         150.0| boutique lyon|    physique|auvergne-rhône-alpes|2023-06-03 00:00:00|       1|             |\n",
      "+--------------+----------+----------+------------+------------+-----------------+--------------+--------------+--------------+------------+--------------------+-------------------+--------+-------------+\n",
      "\n"
     ]
    }
   ],
   "source": [
    "ventes_df.filter(ventes_df[\"client_age\"]< 15).show()"
   ]
  },
  {
   "cell_type": "code",
   "execution_count": 87,
   "id": "9ff011ea",
   "metadata": {},
   "outputs": [],
   "source": [
    "from pyspark.sql.functions import abs as spark_abs\n",
    "\n",
    "ventes_df = ventes_df.withColumn(\"client_age\", spark_abs(\"client_age\"))\n"
   ]
  },
  {
   "cell_type": "code",
   "execution_count": 91,
   "id": "e9f38c92",
   "metadata": {},
   "outputs": [],
   "source": [
    "ventes_df = ventes_df.filter(ventes_df[\"client_age\"]< 100)"
   ]
  },
  {
   "cell_type": "code",
   "execution_count": null,
   "id": "28468348",
   "metadata": {},
   "outputs": [],
   "source": [
    "# Vérification :\n",
    "ventes_df.filter((ventes_df[\"client_age\"]< 15) | (ventes_df[\"client_age\"] > 50)).show()"
   ]
  }
 ],
 "metadata": {
  "kernelspec": {
   "display_name": "env_pyspark (3.13.5)",
   "language": "python",
   "name": "python3"
  },
  "language_info": {
   "codemirror_mode": {
    "name": "ipython",
    "version": 3
   },
   "file_extension": ".py",
   "mimetype": "text/x-python",
   "name": "python",
   "nbconvert_exporter": "python",
   "pygments_lexer": "ipython3",
   "version": "3.13.5"
  }
 },
 "nbformat": 4,
 "nbformat_minor": 5
}
